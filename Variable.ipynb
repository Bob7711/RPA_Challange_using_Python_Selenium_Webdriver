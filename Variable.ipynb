{
 "cells": [
  {
   "cell_type": "markdown",
   "id": "366c33f1",
   "metadata": {},
   "source": [
    "## Variable"
   ]
  },
  {
   "cell_type": "code",
   "execution_count": 1,
   "id": "d8913b7d",
   "metadata": {},
   "outputs": [
    {
     "name": "stdout",
     "output_type": "stream",
     "text": [
      "Age: 32\n",
      "Height: 1.75\n",
      "Name: John Doe\n",
      "Is Student: True\n"
     ]
    }
   ],
   "source": [
    "a = 100\n",
    "\n",
    "## Dec assign variable \n",
    "age = 32 \n",
    "height = 1.75\n",
    "name = \"John Doe\"\n",
    "is_student = True\n",
    "\n",
    "## print the variables\n",
    "print(\"Age:\", age)\n",
    "print(\"Height:\", height)\n",
    "print(\"Name:\", name)\n",
    "print(\"Is Student:\", is_student)"
   ]
  },
  {
   "cell_type": "code",
   "execution_count": 3,
   "id": "1ab968bd",
   "metadata": {},
   "outputs": [
    {
     "name": "stdout",
     "output_type": "stream",
     "text": [
      "10 -10 20 29\n"
     ]
    }
   ],
   "source": [
    "#Naming conventions\n",
    "a= 10\n",
    "_a=10\n",
    "a_b=20\n",
    "a10 = 29\n",
    "print(a, -a, a_b, a10)"
   ]
  },
  {
   "cell_type": "code",
   "execution_count": null,
   "id": "e338f423",
   "metadata": {},
   "outputs": [],
   "source": [
    "#Invalicd variable names\n",
    "# 10a = 10 # Cannot start with a number\n",
    "# a-b = 20 # Cannot contain hyphens \n",
    "# a b = 30 # Cannot contain spaces\n",
    "# a@b = 40 # Cannot contain special characters like @"
   ]
  },
  {
   "cell_type": "code",
   "execution_count": 4,
   "id": "79fb74e6",
   "metadata": {},
   "outputs": [
    {
     "data": {
      "text/plain": [
       "False"
      ]
     },
     "execution_count": 4,
     "metadata": {},
     "output_type": "execute_result"
    }
   ],
   "source": [
    "# case sensitivity\n",
    "A = 10\n",
    "a = 20\n",
    "a==A"
   ]
  },
  {
   "cell_type": "code",
   "execution_count": null,
   "id": "e61d9f6d",
   "metadata": {},
   "outputs": [
    {
     "name": "stdout",
     "output_type": "stream",
     "text": [
      "Age type: <class 'int'>\n",
      "Height type: <class 'float'>\n",
      "Name type: <class 'str'>\n",
      "Is Student type: <class 'bool'>\n"
     ]
    }
   ],
   "source": [
    "#Understznding variable types\n",
    "#type checking\n",
    "age=23\n",
    "height=1.75\n",
    "name=\"John Doe\"\n",
    "is_student=True\n",
    "print(\"Age type:\", type(age))\n",
    "print(\"Height type:\", type(height))\n",
    "print(\"Name type:\", type(name))\n",
    "print(\"Is Student type:\", type(is_student))"
   ]
  },
  {
   "cell_type": "code",
   "execution_count": 10,
   "id": "ce8db09e",
   "metadata": {},
   "outputs": [
    {
     "name": "stdout",
     "output_type": "stream",
     "text": [
      "32\n"
     ]
    },
    {
     "data": {
      "text/plain": [
       "NoneType"
      ]
     },
     "execution_count": 10,
     "metadata": {},
     "output_type": "execute_result"
    }
   ],
   "source": [
    "age = 32\n",
    "age = print(str(age))\n",
    "type(age)  # This will be <class 'NoneType'> because print() returns None"
   ]
  },
  {
   "cell_type": "code",
   "execution_count": null,
   "id": "a13d42e0",
   "metadata": {},
   "outputs": [],
   "source": []
  }
 ],
 "metadata": {
  "kernelspec": {
   "display_name": "genAI",
   "language": "python",
   "name": "python3"
  },
  "language_info": {
   "codemirror_mode": {
    "name": "ipython",
    "version": 3
   },
   "file_extension": ".py",
   "mimetype": "text/x-python",
   "name": "python",
   "nbconvert_exporter": "python",
   "pygments_lexer": "ipython3",
   "version": "3.12.7"
  }
 },
 "nbformat": 4,
 "nbformat_minor": 5
}
